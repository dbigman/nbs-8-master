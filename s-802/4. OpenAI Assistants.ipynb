{
  "cells": [
    {
      "cell_type": "markdown",
      "metadata": {},
      "source": [
        "# OpenAI Assistants"
      ]
    },
    {
      "cell_type": "markdown",
      "metadata": {},
      "source": [
        "Lets build an OpenAI Assistant. You can follow this process up in \n",
        "https://platform.openai.com/playground/assistants"
      ]
    },
    {
      "cell_type": "code",
      "execution_count": 12,
      "metadata": {
        "id": "Y7LS4Ur8rtcu"
      },
      "outputs": [],
      "source": [
        "import openai\n",
        "import pandas as pd\n",
        "\n",
        "#OpenAI API key\n",
        "api_key = ''"
      ]
    },
    {
      "cell_type": "markdown",
      "metadata": {},
      "source": [
        "## Create the assistant and load the files"
      ]
    },
    {
      "cell_type": "code",
      "execution_count": 13,
      "metadata": {},
      "outputs": [],
      "source": [
        "## Create the assistant\n",
        "from openai import OpenAI\n",
        " \n",
        "client = OpenAI(api_key=api_key)\n",
        " \n",
        "assistant = client.beta.assistants.create(\n",
        "  name=\"Data Visualization Helper\",\n",
        "  instructions=\"You are an expert in Datavisualization building in PowerBI\",\n",
        "  model=\"gpt-4o\",\n",
        "  tools=[{\"type\": \"file_search\"}],\n",
        ")"
      ]
    },
    {
      "cell_type": "code",
      "execution_count": 14,
      "metadata": {},
      "outputs": [],
      "source": [
        "# Create a vector store caled \"Datavisualization Documents\"\n",
        "vector_store = client.beta.vector_stores.create(name=\"DataViz Documents\")"
      ]
    },
    {
      "cell_type": "code",
      "execution_count": 15,
      "metadata": {},
      "outputs": [],
      "source": [
        " # Ready the files for upload to OpenAI\n",
        "file_paths = [\"powerbi_book.pdf\"]\n",
        "file_streams = [open(path, \"rb\") for path in file_paths]"
      ]
    },
    {
      "cell_type": "code",
      "execution_count": 16,
      "metadata": {},
      "outputs": [
        {
          "name": "stdout",
          "output_type": "stream",
          "text": [
            "completed\n",
            "FileCounts(cancelled=0, completed=1, failed=0, in_progress=0, total=1)\n"
          ]
        }
      ],
      "source": [
        "# Use the upload and poll SDK helper to upload the files, add them to the vector store,\n",
        "# and poll the status of the file batch for completion.\n",
        "file_batch = client.beta.vector_stores.file_batches.upload_and_poll(\n",
        "  vector_store_id=vector_store.id, files=file_streams\n",
        ")\n",
        " \n",
        "# You can print the status and the file counts of the batch to see the result of this operation.\n",
        "print(file_batch.status)\n",
        "print(file_batch.file_counts)"
      ]
    },
    {
      "cell_type": "code",
      "execution_count": 7,
      "metadata": {},
      "outputs": [],
      "source": [
        "assistant = client.beta.assistants.update(\n",
        "  assistant_id=assistant.id,\n",
        "  tool_resources={\"file_search\": {\"vector_store_ids\": [vector_store.id]}},\n",
        ")"
      ]
    },
    {
      "cell_type": "markdown",
      "metadata": {},
      "source": [
        "## Call the assistant"
      ]
    },
    {
      "cell_type": "code",
      "execution_count": 9,
      "metadata": {},
      "outputs": [
        {
          "data": {
            "text/plain": [
              "Text(annotations=[FileCitationAnnotation(end_index=722, file_citation=FileCitation(file_id='file-EvVaLvzu5L0RN822XLtooqIN'), start_index=700, text='【4:0†powerbi_book.pdf】', type='file_citation')], value='The document provides a list of different visualization types available in Power BI, but it does not specify a limit on how many pie charts you can create. The ability to create pie charts (and the number you can create) would typically be constrained by the complexity and number of datasets you are working with, as well as the practical considerations of visualization design, rather than a strict quantitative limit. In Power BI, you can technically create as many pie charts as you need, provided your data supports them. However, it is important to keep in mind that pie charts are generally not recommended for displaying complex data or datasets with many categories due to readability issues【4:0†powerbi_book.pdf】.')"
            ]
          },
          "execution_count": 9,
          "metadata": {},
          "output_type": "execute_result"
        }
      ],
      "source": [
        "# Create a thread and attach the file to the message\n",
        "thread = client.beta.threads.create(\n",
        "  messages=[\n",
        "    {\n",
        "      \"role\": \"user\",\n",
        "      \"content\": \"How many pie charts can i create\",\n",
        "    }\n",
        "  ]\n",
        ")\n",
        "\n",
        "run = client.beta.threads.runs.create_and_poll(\n",
        "    thread_id=thread.id, assistant_id=assistant.id\n",
        ")\n",
        "\n",
        "messages = list(client.beta.threads.messages.list(thread_id=thread.id, run_id=run.id))\n",
        "\n",
        "message_content = messages[0].content[0].text\n",
        "print(message_content.value)"
      ]
    },
    {
      "cell_type": "code",
      "execution_count": 11,
      "metadata": {},
      "outputs": [
        {
          "name": "stdout",
          "output_type": "stream",
          "text": [
            "[0] powerbi_book.pdf\n"
          ]
        }
      ],
      "source": [
        "annotations = message_content.annotations\n",
        "citations = []\n",
        "for index, annotation in enumerate(annotations):\n",
        "    message_content.value = message_content.value.replace(annotation.text, f\"[{index}]\")\n",
        "    if file_citation := getattr(annotation, \"file_citation\", None):\n",
        "        cited_file = client.files.retrieve(file_citation.file_id)\n",
        "        citations.append(f\"[{index}] {cited_file.filename}\")\n",
        "\n",
        "\n",
        "print(\"\\n\".join(citations))"
      ]
    },
    {
      "cell_type": "code",
      "execution_count": 17,
      "metadata": {},
      "outputs": [
        {
          "name": "stdout",
          "output_type": "stream",
          "text": [
            "To solve the equation \\(3x + 11 = 14\\), you can follow these steps:\n",
            "\n",
            "1. Subtract 11 from both sides to isolate the term with the variable:\n",
            "   \\[\n",
            "   3x + 11 - 11 = 14 - 11\n",
            "   \\]\n",
            "   \\[\n",
            "   3x = 3\n",
            "   \\]\n",
            "\n",
            "2. Divide both sides by 3 to solve for \\(x\\):\n",
            "   \\[\n",
            "   \\frac{3x}{3} = \\frac{3}{3}\n",
            "   \\]\n",
            "   \\[\n",
            "   x = 1\n",
            "   \\]\n",
            "\n",
            "So, the solution to the equation \\(3x + 11 = 14\\) is \\(x = 1\\).\n"
          ]
        }
      ],
      "source": [
        "## Add another message and run again\n",
        "\n",
        "message = client.beta.threads.messages.create(\n",
        "  thread_id=thread.id,\n",
        "  role=\"user\",\n",
        "  content=\"I need to solve the equation `3x + 11 = 14`. Can you help me?\"\n",
        ")\n",
        "\n",
        "run = client.beta.threads.runs.create_and_poll(\n",
        "    thread_id=thread.id, assistant_id=assistant.id\n",
        ")\n",
        "\n",
        "messages = list(client.beta.threads.messages.list(thread_id=thread.id, run_id=run.id))\n",
        "\n",
        "message_content = messages[0].content[0].text\n",
        "print(message_content.value)"
      ]
    },
    {
      "cell_type": "code",
      "execution_count": 18,
      "metadata": {},
      "outputs": [
        {
          "name": "stdout",
          "output_type": "stream",
          "text": [
            "Yes, you asked about pie charts.\n"
          ]
        }
      ],
      "source": [
        "## Memory is managed for me\n",
        "\n",
        "message = client.beta.threads.messages.create(\n",
        "  thread_id=thread.id,\n",
        "  role=\"user\",\n",
        "  content=\"Do you remember which type of chart I asked a while ago?\"\n",
        ")\n",
        "\n",
        "run = client.beta.threads.runs.create_and_poll(\n",
        "    thread_id=thread.id, assistant_id=assistant.id\n",
        ")\n",
        "\n",
        "messages = list(client.beta.threads.messages.list(thread_id=thread.id, run_id=run.id))\n",
        "\n",
        "message_content = messages[0].content[0].text\n",
        "print(message_content.value)"
      ]
    },
    {
      "cell_type": "code",
      "execution_count": null,
      "metadata": {},
      "outputs": [],
      "source": []
    }
  ],
  "metadata": {
    "colab": {
      "provenance": []
    },
    "kernelspec": {
      "display_name": "venv_ironhack",
      "language": "python",
      "name": "python3"
    },
    "language_info": {
      "codemirror_mode": {
        "name": "ipython",
        "version": 3
      },
      "file_extension": ".py",
      "mimetype": "text/x-python",
      "name": "python",
      "nbconvert_exporter": "python",
      "pygments_lexer": "ipython3",
      "version": "3.12.6"
    }
  },
  "nbformat": 4,
  "nbformat_minor": 0
}
