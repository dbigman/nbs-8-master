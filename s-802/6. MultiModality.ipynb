{
 "cells": [
  {
   "cell_type": "markdown",
   "metadata": {},
   "source": [
    "# MultiModal Models"
   ]
  },
  {
   "cell_type": "markdown",
   "metadata": {},
   "source": [
    "![image](https://storage.googleapis.com/sfr-vision-language-research/BLIP/demo.jpg)"
   ]
  },
  {
   "cell_type": "markdown",
   "metadata": {},
   "source": [
    "## Image Embedding Models"
   ]
  },
  {
   "cell_type": "code",
   "execution_count": 1,
   "metadata": {},
   "outputs": [
    {
     "name": "stderr",
     "output_type": "stream",
     "text": [
      "/Users/joaorochaemelo/code/IH/venv_ironhack/lib/python3.12/site-packages/huggingface_hub/file_download.py:1150: FutureWarning: `resume_download` is deprecated and will be removed in version 1.0.0. Downloads always resume when possible. If you want to force a new download, use `force_download=True`.\n",
      "  warnings.warn(\n",
      "/Users/joaorochaemelo/code/IH/venv_ironhack/lib/python3.12/site-packages/huggingface_hub/file_download.py:1150: FutureWarning: `resume_download` is deprecated and will be removed in version 1.0.0. Downloads always resume when possible. If you want to force a new download, use `force_download=True`.\n",
      "  warnings.warn(\n"
     ]
    }
   ],
   "source": [
    "import torch\n",
    "import requests\n",
    "from PIL import Image\n",
    "from transformers import CLIPProcessor, CLIPModel\n",
    "\n",
    "# Load the model\n",
    "model = CLIPModel.from_pretrained(\"openai/clip-vit-base-patch32\")\n",
    "# Load the processor\n",
    "processor = CLIPProcessor.from_pretrained(\"openai/clip-vit-base-patch32\")"
   ]
  },
  {
   "cell_type": "code",
   "execution_count": 2,
   "metadata": {},
   "outputs": [],
   "source": [
    "# Load an example image - DOG\n",
    "img = Image.open(\"img/dog.jpg\")\n",
    "# Preprocess the image using the processor\n",
    "\n",
    "# Add a text input to the processor\n",
    "text = \"a photo of a dog\"\n",
    "inputs = processor(text=[text], images=img, return_tensors=\"pt\", padding=True)\n",
    "\n",
    "# Geneprate the embeddings using the model\n",
    "outputs = model(**inputs)\n",
    "\n",
    "# Extract the image embeddings from the outputs\n",
    "img_embeds_dog = outputs.image_embeds"
   ]
  },
  {
   "cell_type": "code",
   "execution_count": 3,
   "metadata": {},
   "outputs": [],
   "source": [
    "# Load an example image - DOG2\n",
    "img = Image.open(\"img/dog2.jpg\")\n",
    "# Preprocess the image using the processor\n",
    "\n",
    "# Add a text input to the processor\n",
    "text = \"a photo of a dog\"\n",
    "inputs = processor(text=[text], images=img, return_tensors=\"pt\", padding=True)\n",
    "\n",
    "# Geneprate the embeddings using the model\n",
    "outputs = model(**inputs)\n",
    "\n",
    "# Extract the image embeddings from the outputs\n",
    "img_embeds_dog2 = outputs.image_embeds"
   ]
  },
  {
   "cell_type": "code",
   "execution_count": 4,
   "metadata": {},
   "outputs": [],
   "source": [
    "# Load an example image - cat\n",
    "img = Image.open(\"img/cat.jpg\")\n",
    "# Preprocess the image using the processor\n",
    "\n",
    "# Add a text input to the processor\n",
    "text = \"a photo of a cat\"\n",
    "inputs = processor(text=[text], images=img, return_tensors=\"pt\", padding=True)\n",
    "\n",
    "# Geneprate the embeddings using the model\n",
    "outputs = model(**inputs)\n",
    "\n",
    "# Extract the image embeddings from the outputs\n",
    "img_embeds_cat = outputs.image_embeds"
   ]
  },
  {
   "cell_type": "code",
   "execution_count": 5,
   "metadata": {},
   "outputs": [],
   "source": [
    "# Load an example image - cat\n",
    "img = Image.open(\"img/server.jpg\")\n",
    "# Preprocess the image using the processor\n",
    "\n",
    "# Add a text input to the processor\n",
    "text = \"a photo of a server\"\n",
    "inputs = processor(text=[text], images=img, return_tensors=\"pt\", padding=True)\n",
    "\n",
    "# Geneprate the embeddings using the model\n",
    "outputs = model(**inputs)\n",
    "\n",
    "# Extract the image embeddings from the outputs\n",
    "img_embeds_server = outputs.image_embeds"
   ]
  },
  {
   "cell_type": "code",
   "execution_count": 6,
   "metadata": {},
   "outputs": [
    {
     "name": "stdout",
     "output_type": "stream",
     "text": [
      "Euclidean distance between dogs: tensor(0.8688, grad_fn=<DistBackward0>)\n",
      "Euclidean distance between dog and cat: tensor(0.9053, grad_fn=<DistBackward0>)\n",
      "Euclidean distance between dog and server: tensor(0.8935, grad_fn=<DistBackward0>)\n"
     ]
    }
   ],
   "source": [
    "## Diference between dogs:\n",
    "# Compute Euclidean distance\n",
    "euclidean_distance = torch.dist(img_embeds_dog, img_embeds_dog2)\n",
    "print(\"Euclidean distance between dogs:\", euclidean_distance)\n",
    "\n",
    "euclidean_distance = torch.dist(img_embeds_dog, img_embeds_cat)\n",
    "print(\"Euclidean distance between dog and cat:\", euclidean_distance)\n",
    "\n",
    "euclidean_distance = torch.dist(img_embeds_dog, img_embeds_server)\n",
    "print(\"Euclidean distance between dog and server:\", euclidean_distance)\n"
   ]
  },
  {
   "cell_type": "markdown",
   "metadata": {},
   "source": [
    "## Multimodality"
   ]
  },
  {
   "cell_type": "code",
   "execution_count": 7,
   "metadata": {},
   "outputs": [
    {
     "name": "stdout",
     "output_type": "stream",
     "text": [
      "cat\n"
     ]
    },
    {
     "name": "stderr",
     "output_type": "stream",
     "text": [
      "/Users/joaorochaemelo/code/IH/venv_ironhack/lib/python3.12/site-packages/transformers/generation/utils.py:1141: UserWarning: Using the model-agnostic default `max_length` (=20) to control the generation length. We recommend setting `max_new_tokens` to control the maximum length of the generation.\n",
      "  warnings.warn(\n"
     ]
    }
   ],
   "source": [
    "import requests\n",
    "from PIL import Image\n",
    "from transformers import BlipProcessor, BlipForQuestionAnswering\n",
    "\n",
    "processor = BlipProcessor.from_pretrained(\"Salesforce/blip-vqa-base\")\n",
    "model = BlipForQuestionAnswering.from_pretrained(\"Salesforce/blip-vqa-base\")\n",
    "\n",
    "img = Image.open(\"img/cat.jpg\")\n",
    "\n",
    "question = \"Which animal do you see?\"\n",
    "inputs = processor(img, question, return_tensors=\"pt\")\n",
    "\n",
    "out = model.generate(**inputs)\n",
    "print(processor.decode(out[0], skip_special_tokens=True))"
   ]
  },
  {
   "cell_type": "code",
   "execution_count": null,
   "metadata": {},
   "outputs": [],
   "source": []
  }
 ],
 "metadata": {
  "kernelspec": {
   "display_name": "venv_ironhack",
   "language": "python",
   "name": "python3"
  },
  "language_info": {
   "codemirror_mode": {
    "name": "ipython",
    "version": 3
   },
   "file_extension": ".py",
   "mimetype": "text/x-python",
   "name": "python",
   "nbconvert_exporter": "python",
   "pygments_lexer": "ipython3",
   "version": "3.12.6"
  }
 },
 "nbformat": 4,
 "nbformat_minor": 2
}
